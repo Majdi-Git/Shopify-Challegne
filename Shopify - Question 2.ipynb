{
    "cells": [
        {
            "cell_type": "markdown",
            "metadata": {
                "collapsed": true
            },
            "source": "## Question 2: \n\nFor this question you\u2019ll need to use SQL. Follow this link to access the data set required for the challenge. Please use queries to answer the following questions. Paste your queries along with your final numerical answers below.\n"
        },
        {
            "cell_type": "markdown",
            "metadata": {},
            "source": "### How many orders were shipped by Speedy Express in total?"
        },
        {
            "cell_type": "markdown",
            "metadata": {},
            "source": "SELECT count(orderid) order_count FROM orders\n\n#### Result:\n\norder_count\n196"
        },
        {
            "cell_type": "markdown",
            "metadata": {},
            "source": "### What is the last name of the employee with the most orders?"
        },
        {
            "cell_type": "markdown",
            "metadata": {},
            "source": "SELECT Last_Name, max(total) Order_Total FROM\n  (SELECT o.employeeid, count(o.employeeid) total, e.lastname Last_Name FROM orders o\n  INNER JOIN employees e ON o.employeeid = e.employeeid\n  GROUP BY o.employeeid)\n \n \n \n#### Result:\n\nLast_Name $\\;\\;\\;$Order_Total\n\nPeacock $\\;\\;\\!\\;\\;\\;\\;$\t  40\n"
        },
        {
            "cell_type": "markdown",
            "metadata": {},
            "source": "### What product was ordered the most by customers in Germany?"
        },
        {
            "cell_type": "markdown",
            "metadata": {},
            "source": "SELECT Country, Product_Name, max(product_count) Total_Orders FROM\n  (SELECT c.country Country, p.productname Product_Name, count(p.productname) Product_Count from orders o \n  INNER JOIN orderdetails od ON o.orderid = od.orderid\n  INNER JOIN customers c ON c.customerid = o.customerid\n  INNER JOIN products p ON od.productid = p.productid\n  WHERE c.country = 'Germany'\n  GROUP BY p.productid)\n  \n\n#### Result:\n\n\nCountry$\\;\\;\\;\\;\\;$\tProduct_Name$\\;\\;\\;\\;\\;$\tTotal_Orders\n\nGermany$\\;\\;\\;$\tGorgonzola Telino$\\;\\;\\;$\t5"
        }
    ],
    "metadata": {
        "kernelspec": {
            "display_name": "Python 3.6",
            "language": "python",
            "name": "python3"
        },
        "language_info": {
            "codemirror_mode": {
                "name": "ipython",
                "version": 3
            },
            "file_extension": ".py",
            "mimetype": "text/x-python",
            "name": "python",
            "nbconvert_exporter": "python",
            "pygments_lexer": "ipython3",
            "version": "3.6.9"
        }
    },
    "nbformat": 4,
    "nbformat_minor": 1
}