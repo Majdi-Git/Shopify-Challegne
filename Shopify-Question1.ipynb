{
    "cells": [
        {
            "cell_type": "markdown",
            "metadata": {},
            "source": "## Question 1: Given some sample data, write a program to answer the following: click here to access the required data set\n\nOn Shopify, we have exactly 100 sneaker shops, and each of these shops sells only one model of shoe. We want to do some analysis of the average order value (AOV). When we look at orders data over a 30 day window, we naively calculate an AOV of $3145.13. Given that we know these shops are selling sneakers, a relatively affordable item, something seems wrong with our analysis\n"
        },
        {
            "cell_type": "markdown",
            "metadata": {},
            "source": "### a. Think about what could be going wrong with our calculation. Think about a better way to evaluate this data:\n    \n  The calculation of the AOV did not take into consideration the variablity in order size. This created outliers that skewed the AOV."
        },
        {
            "cell_type": "markdown",
            "metadata": {},
            "source": "### b. What metric would you report for this dataset?\n\nIn order to take into account the variablity in order size and the fact that each store sellls the sneakers at a different price, we must tally the total value of all orders and the total number of items sold.   "
        },
        {
            "cell_type": "code",
            "execution_count": 2,
            "metadata": {},
            "outputs": [
                {
                    "data": {
                        "text/html": "<div>\n<style scoped>\n    .dataframe tbody tr th:only-of-type {\n        vertical-align: middle;\n    }\n\n    .dataframe tbody tr th {\n        vertical-align: top;\n    }\n\n    .dataframe thead th {\n        text-align: right;\n    }\n</style>\n<table border=\"1\" class=\"dataframe\">\n  <thead>\n    <tr style=\"text-align: right;\">\n      <th></th>\n      <th>order_id</th>\n      <th>shop_id</th>\n      <th>user_id</th>\n      <th>order_amount</th>\n      <th>total_items</th>\n      <th>payment_method</th>\n      <th>created_at</th>\n    </tr>\n  </thead>\n  <tbody>\n    <tr>\n      <th>0</th>\n      <td>1</td>\n      <td>53</td>\n      <td>746</td>\n      <td>224</td>\n      <td>2</td>\n      <td>cash</td>\n      <td>2017-03-13 12:36:56</td>\n    </tr>\n    <tr>\n      <th>1</th>\n      <td>2</td>\n      <td>92</td>\n      <td>925</td>\n      <td>90</td>\n      <td>1</td>\n      <td>cash</td>\n      <td>2017-03-03 17:38:52</td>\n    </tr>\n    <tr>\n      <th>2</th>\n      <td>3</td>\n      <td>44</td>\n      <td>861</td>\n      <td>144</td>\n      <td>1</td>\n      <td>cash</td>\n      <td>2017-03-14 4:23:56</td>\n    </tr>\n    <tr>\n      <th>3</th>\n      <td>4</td>\n      <td>18</td>\n      <td>935</td>\n      <td>156</td>\n      <td>1</td>\n      <td>credit_card</td>\n      <td>2017-03-26 12:43:37</td>\n    </tr>\n    <tr>\n      <th>4</th>\n      <td>5</td>\n      <td>18</td>\n      <td>883</td>\n      <td>156</td>\n      <td>1</td>\n      <td>credit_card</td>\n      <td>2017-03-01 4:35:11</td>\n    </tr>\n  </tbody>\n</table>\n</div>",
                        "text/plain": "   order_id  shop_id  user_id  order_amount  total_items payment_method  \\\n0         1       53      746           224            2           cash   \n1         2       92      925            90            1           cash   \n2         3       44      861           144            1           cash   \n3         4       18      935           156            1    credit_card   \n4         5       18      883           156            1    credit_card   \n\n            created_at  \n0  2017-03-13 12:36:56  \n1  2017-03-03 17:38:52  \n2   2017-03-14 4:23:56  \n3  2017-03-26 12:43:37  \n4   2017-03-01 4:35:11  "
                    },
                    "execution_count": 2,
                    "metadata": {},
                    "output_type": "execute_result"
                }
            ],
            "source": "# The code was removed by Watson Studio for sharing."
        },
        {
            "cell_type": "code",
            "execution_count": 3,
            "metadata": {},
            "outputs": [
                {
                    "data": {
                        "text/plain": "15725640"
                    },
                    "execution_count": 3,
                    "metadata": {},
                    "output_type": "execute_result"
                }
            ],
            "source": "total_order_amount = df['order_amount'].sum()\ntotal_order_amount"
        },
        {
            "cell_type": "code",
            "execution_count": 4,
            "metadata": {},
            "outputs": [
                {
                    "data": {
                        "text/plain": "43936"
                    },
                    "execution_count": 4,
                    "metadata": {},
                    "output_type": "execute_result"
                }
            ],
            "source": "sum_items = df['total_items'].sum()\nsum_items"
        },
        {
            "cell_type": "markdown",
            "metadata": {},
            "source": "Dividing the two values would yield the average value of a single order."
        },
        {
            "cell_type": "code",
            "execution_count": 5,
            "metadata": {},
            "outputs": [
                {
                    "data": {
                        "text/plain": "357.92152221412965"
                    },
                    "execution_count": 5,
                    "metadata": {},
                    "output_type": "execute_result"
                }
            ],
            "source": "average_item_price = total_order_amount/sum_items\naverage_item_price"
        },
        {
            "cell_type": "markdown",
            "metadata": {},
            "source": "Then we calculate the median of the total_item column to find the median order size."
        },
        {
            "cell_type": "code",
            "execution_count": 6,
            "metadata": {},
            "outputs": [
                {
                    "data": {
                        "text/plain": "2.0"
                    },
                    "execution_count": 6,
                    "metadata": {},
                    "output_type": "execute_result"
                }
            ],
            "source": "median_order_amount = df['total_items'].median()\nmedian_order_amount"
        },
        {
            "cell_type": "markdown",
            "metadata": {},
            "source": "Finally we multiply the average item price by the median order size to get the average order value (AOV)."
        },
        {
            "cell_type": "code",
            "execution_count": 7,
            "metadata": {},
            "outputs": [
                {
                    "name": "stdout",
                    "output_type": "stream",
                    "text": "AOV = $715.8430444282593\n"
                }
            ],
            "source": "average_order_amount = average_item_price * median_order_amount\nprint('AOV = $' + str(average_order_amount))"
        }
    ],
    "metadata": {
        "kernelspec": {
            "display_name": "Python 3.6",
            "language": "python",
            "name": "python3"
        },
        "language_info": {
            "codemirror_mode": {
                "name": "ipython",
                "version": 3
            },
            "file_extension": ".py",
            "mimetype": "text/x-python",
            "name": "python",
            "nbconvert_exporter": "python",
            "pygments_lexer": "ipython3",
            "version": "3.6.9"
        }
    },
    "nbformat": 4,
    "nbformat_minor": 1
}